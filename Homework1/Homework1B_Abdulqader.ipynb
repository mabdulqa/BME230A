{
  "nbformat": 4,
  "nbformat_minor": 0,
  "metadata": {
    "colab": {
      "name": "Homework_1B_Abdulqader.ipynb",
      "provenance": [],
      "collapsed_sections": []
    },
    "kernelspec": {
      "display_name": "Python 3",
      "language": "python",
      "name": "python3"
    }
  },
  "cells": [
    {
      "cell_type": "markdown",
      "metadata": {
        "id": "Q_Ma2HpvQc51",
        "colab_type": "text"
      },
      "source": [
        "# Classifying cancer expression vectors"
      ]
    },
    {
      "cell_type": "markdown",
      "metadata": {
        "id": "CW0BIgD8Qc55",
        "colab_type": "text"
      },
      "source": [
        "In this assignment you will train a neural network to identify the tissue type that produced an RNA expression vector. The dataset is comprised of RNA-seq data obtained from tumors. \n",
        "\n",
        "For a complete description of the data collection workflow see this page:\n",
        "https://xenabrowser.net/datapages/?host=https://toil.xenahubs.net\n",
        "\n",
        "And for the corresponding publication:\n",
        "https://doi.org/10.1038/nbt.3772"
      ]
    },
    {
      "cell_type": "code",
      "metadata": {
        "scrolled": true,
        "id": "oGeS7--cQc56",
        "colab_type": "code",
        "outputId": "556129b0-8ce1-4588-fb1a-fb0ae0d29804",
        "colab": {
          "base_uri": "https://localhost:8080/",
          "height": 34
        }
      },
      "source": [
        "import sys\n",
        "import numpy as np\n",
        "from matplotlib import pyplot\n",
        "import pandas as pd\n",
        "import h5py\n",
        "import os\n",
        "from sklearn.model_selection import StratifiedShuffleSplit\n",
        "import torch\n",
        "import torch.nn as nn\n",
        "from torch import optim\n",
        "from torch.autograd import Variable\n",
        "from torch.utils.data import DataLoader\n",
        "from torch.utils.data.dataset import Dataset\n",
        "import torch.nn.functional as F\n",
        "from sklearn.metrics import confusion_matrix\n",
        "\n",
        "print(\"USING pytorch VERSION: \", torch.__version__)"
      ],
      "execution_count": 108,
      "outputs": [
        {
          "output_type": "stream",
          "text": [
            "USING pytorch VERSION:  1.3.1\n"
          ],
          "name": "stdout"
        }
      ]
    },
    {
      "cell_type": "markdown",
      "metadata": {
        "id": "pS7Ix_lFQc6L",
        "colab_type": "text"
      },
      "source": [
        "## Loading and parsing training data\n",
        "For this problem, expression data needs to be loaded and pruned. Initially, there are >50,000 genes in each expression vector, which can be reduced to a much smaller gene set for the sake of minimizing computation time. Here, the data is subsetted to only include genes from the KEGG gene set. You may want to consider reducing or expanding this dataset to get a better understanding of which genes are predictive, though this is not a requirement for the assignment.\n",
        "\n",
        "For a list of gene sets, check out the MSigDB collections page: http://software.broadinstitute.org/gsea/msigdb/collections.jsp\n",
        "\n",
        "This script was adapted from Rob Currie's ingestion script: https://github.com/rcurrie/tumornormal/blob/master/genesets.ipynb\n",
        "\n",
        "We have placed a subset of this data for this homework in Google drive, you can download it here:\n",
        "\n",
        "https://drive.google.com/drive/folders/1pPABQDEHCddPTJAhfD6G5KyBDJiK3unQ?usp=sharing"
      ]
    },
    {
      "cell_type": "code",
      "metadata": {
        "id": "NnhNSCGW5FHO",
        "colab_type": "code",
        "outputId": "0d2338b4-500c-4223-a309-fbddcef85653",
        "colab": {
          "base_uri": "https://localhost:8080/",
          "height": 790
        }
      },
      "source": [
        "# Load the data - If using Google drive link to access data the following with connect\n",
        "# to drive, authenticate using your Google account and load the data\n",
        "\n",
        "!pip install -U -q PyDrive ## you will have install for every colab session\n",
        "\n",
        "from pydrive.auth import GoogleAuth\n",
        "from pydrive.drive import GoogleDrive\n",
        "from google.colab import auth\n",
        "from oauth2client.client import GoogleCredentials\n",
        "\n",
        "# 1. Authenticate and create the PyDrive client.\n",
        "auth.authenticate_user()\n",
        "gauth = GoogleAuth()\n",
        "gauth.credentials = GoogleCredentials.get_application_default()\n",
        "drive = GoogleDrive(gauth)\n",
        "\n",
        "#x_test: https://drive.google.com/file/d/1Cc4zEw1wANFX8S44L87Rx_EZWwCcONMW/view?usp=sharing\n",
        "#x_train: https://drive.google.com/file/d/1s8VvRaUc62OYukRunV689Y9u-v_y7KRl/view?usp=sharing\n",
        "#y_test: https://drive.google.com/file/d/1W4Qdr3zm5QYGP5ncMQSurrO1m05KsKQ2/view?usp=sharing\n",
        "#t_train: https://drive.google.com/file/d/1UmDZ25W84DmIY4im2XHCAc5QGgNkdexD/view?usp=sharing\n",
        "\n",
        "# 2. Now proxy the Google Drive files to a local file\n",
        "x_test_import = drive.CreateFile({'id':'1Cc4zEw1wANFX8S44L87Rx_EZWwCcONMW'})\n",
        "x_train_import = drive.CreateFile({'id':'1s8VvRaUc62OYukRunV689Y9u-v_y7KRl'})\n",
        "y_test_import = drive.CreateFile({'id':'1W4Qdr3zm5QYGP5ncMQSurrO1m05KsKQ2'})\n",
        "y_train_import = drive.CreateFile({'id':'1UmDZ25W84DmIY4im2XHCAc5QGgNkdexD'})\n",
        "\n",
        "x_test_import.GetContentFile('x_test.npz') # x_test.npz is the file name that will be accessible in the notebook.\n",
        "x_train_import.GetContentFile('x_train.npz') # x_train.npz is the file name that will be accessible in the notebook.\n",
        "y_test_import.GetContentFile('y_test.npz') # y_test.npz is the file name that will be accessible in the notebook.\n",
        "y_train_import.GetContentFile('y_train.npz') # y_train.npz is the file name that will be accessible in the notebook.\n",
        "\n",
        "y_index_key = {'Adipose Tissue': 0, 'Adrenal Gland': 1, 'Adrenal gland': 2, \n",
        "               'Bile duct': 3, 'Bladder': 4, 'Blood': 5, 'Blood Vessel': 6, \n",
        "               'Bone Marrow': 7, 'Brain': 8, 'Breast': 9, 'Cervix': 10, \n",
        "               'Cervix Uteri': 11, 'Colon': 12, 'Endometrium': 13, \n",
        "               'Esophagus': 14, 'Eye': 15, 'Fallopian Tube': 16, \n",
        "               'Head and Neck region': 17, 'Heart': 18, 'Kidney': 19, \n",
        "               'Lining of body cavities': 20, 'Liver': 21, 'Lung': 22, \n",
        "               'Lymphatic tissue': 23, 'Muscle': 24, 'Nerve': 25, 'Ovary': 26, \n",
        "               'Pancreas': 27, 'Paraganglia': 28, 'Pituitary': 29, 'Prostate': 30,\n",
        "               'Rectum': 31, 'Salivary Gland': 32, 'Skin': 33, 'Small Intestine': 34,\n",
        "               'Soft tissue,Bone': 35, 'Spleen': 36, 'Stomach': 37, \n",
        "               'SympatheticÊNervous System': 38, 'Testis': 39, 'Thymus': 40,\n",
        "               'Thyroid': 41, 'Thyroid Gland': 42, 'Uterus': 43, 'Vagina': 44,\n",
        "               'White blood cell': 45}\n",
        "\n",
        "for name in y_index_key:\n",
        "  print(name, y_index_key[name])"
      ],
      "execution_count": 2,
      "outputs": [
        {
          "output_type": "stream",
          "text": [
            "Adipose Tissue 0\n",
            "Adrenal Gland 1\n",
            "Adrenal gland 2\n",
            "Bile duct 3\n",
            "Bladder 4\n",
            "Blood 5\n",
            "Blood Vessel 6\n",
            "Bone Marrow 7\n",
            "Brain 8\n",
            "Breast 9\n",
            "Cervix 10\n",
            "Cervix Uteri 11\n",
            "Colon 12\n",
            "Endometrium 13\n",
            "Esophagus 14\n",
            "Eye 15\n",
            "Fallopian Tube 16\n",
            "Head and Neck region 17\n",
            "Heart 18\n",
            "Kidney 19\n",
            "Lining of body cavities 20\n",
            "Liver 21\n",
            "Lung 22\n",
            "Lymphatic tissue 23\n",
            "Muscle 24\n",
            "Nerve 25\n",
            "Ovary 26\n",
            "Pancreas 27\n",
            "Paraganglia 28\n",
            "Pituitary 29\n",
            "Prostate 30\n",
            "Rectum 31\n",
            "Salivary Gland 32\n",
            "Skin 33\n",
            "Small Intestine 34\n",
            "Soft tissue,Bone 35\n",
            "Spleen 36\n",
            "Stomach 37\n",
            "SympatheticÊNervous System 38\n",
            "Testis 39\n",
            "Thymus 40\n",
            "Thyroid 41\n",
            "Thyroid Gland 42\n",
            "Uterus 43\n",
            "Vagina 44\n",
            "White blood cell 45\n"
          ],
          "name": "stdout"
        }
      ]
    },
    {
      "cell_type": "markdown",
      "metadata": {
        "id": "m5u_LlXvQc6V",
        "colab_type": "text"
      },
      "source": [
        "\n",
        "## Define a pytorch Dataset object to contain the training and testing data\n",
        "Pytorch handles data shuffling and batch loading, as long as the user provides a \"Dataset\" class. This class is just a wrapper for your data that casts the data into pytorch tensor format and returns slices of the data. In this case, our data has been stored in numpy format, which conveniently pytorch has a method for converting to their native format."
      ]
    },
    {
      "cell_type": "code",
      "metadata": {
        "id": "jLJ6bZveQc6W",
        "colab_type": "code",
        "colab": {}
      },
      "source": [
        "class PrimarySiteDataset(Dataset):\n",
        "    def __init__(self, x_path, y_path, batch_size=None):\n",
        "        x = np.load(x_path)['a']\n",
        "        y = np.load(y_path)['a']\n",
        "\n",
        "        x_dtype = torch.FloatTensor\n",
        "        y_dtype = torch.FloatTensor     # for MSE Loss\n",
        "\n",
        "        self.length = x.shape[0]\n",
        "\n",
        "        self.x_data = torch.from_numpy(x).type(x_dtype)\n",
        "        self.y_data = torch.from_numpy(y).type(y_dtype)\n",
        "\n",
        "    def __getitem__(self, index):\n",
        "        return self.x_data[index], self.y_data[index]\n",
        "\n",
        "    def __len__(self):\n",
        "        return self.length"
      ],
      "execution_count": 0,
      "outputs": []
    },
    {
      "cell_type": "markdown",
      "metadata": {
        "id": "37Wx6Ui_NN7H",
        "colab_type": "text"
      },
      "source": [
        "## Define training methods for the model\n",
        "These methods use an initialized model and training data to iteratively perform the forward and backward pass of optimization. Aside from some data reformatting that depends on the input, output, and loss function, these methods will always be the same for any shallow neural network."
      ]
    },
    {
      "cell_type": "markdown",
      "metadata": {
        "id": "q2TCSKUnjfUm",
        "colab_type": "text"
      },
      "source": [
        "## **train_batch()**\n",
        "\n",
        "train_batch has the purpose of training a batch of the data set. \n",
        "\n",
        "**Inputs:** Shallow linear model, x_train set, y_train set, SGD optimizer, MSE loss function\n",
        "\n",
        "**Output:** loss score "
      ]
    },
    {
      "cell_type": "code",
      "metadata": {
        "id": "hntQhyUWNOL9",
        "colab_type": "code",
        "colab": {}
      },
      "source": [
        "def train_batch(model, x, y, optimizer, loss_fn):\n",
        "    # Run forward calculation\n",
        "    y_predict = model.forward(x)\n",
        "\n",
        "    # convert 1-hot vectors into indicies\n",
        "    max_values, target_index = y.max(dim=1)\n",
        "    target_index = target_index.type(torch.LongTensor)\n",
        "    \n",
        "    # Compute loss.\n",
        "    loss = loss_fn(y_predict, target_index)\n",
        "\n",
        "    # Before the backward pass, use the optimizer object to zero all of the\n",
        "    # gradients for the variables it will update (which are the learnable weights\n",
        "    # of the model)\n",
        "    optimizer.zero_grad()\n",
        "\n",
        "    # Backward pass: compute gradient of the loss with respect to model\n",
        "    # parameters\n",
        "    loss.backward()\n",
        "\n",
        "    # Calling the step function on an Optimizer makes an update to its\n",
        "    # parameters\n",
        "    optimizer.step()\n",
        "\n",
        "    return loss.data.item()\n",
        "\n"
      ],
      "execution_count": 0,
      "outputs": []
    },
    {
      "cell_type": "markdown",
      "metadata": {
        "id": "n_JBLBBVl50w",
        "colab_type": "text"
      },
      "source": [
        "## **train()**\n",
        "Function that trains the model using the given x_train and y_train set.\n",
        "\n",
        "**Input:** shallow linear model, dataloader for train_set, SGD optimizer, MSE loss function, # of epochs\n",
        "\n",
        "**Output:** the loss score of each batch (list data type)"
      ]
    },
    {
      "cell_type": "code",
      "metadata": {
        "id": "Xugxwo2xiRLW",
        "colab_type": "code",
        "colab": {}
      },
      "source": [
        "def train(model, loader, optimizer, loss_fn, epochs=5):\n",
        "    losses = list()\n",
        "\n",
        "    batch_index = 0\n",
        "    for e in range(epochs):\n",
        "        for x, y in loader:\n",
        "            loss = train_batch(model=model, x=x, y=y, \n",
        "                               optimizer=optimizer, loss_fn=loss_fn)\n",
        "            losses.append(loss)\n",
        "\n",
        "            batch_index += 1\n",
        "\n",
        "        print(\"Epoch: \", e+1)\n",
        "        print(\"Batches: \", batch_index)\n",
        "\n",
        "    return losses"
      ],
      "execution_count": 0,
      "outputs": []
    },
    {
      "cell_type": "markdown",
      "metadata": {
        "id": "N42amuhjdu0K",
        "colab_type": "text"
      },
      "source": [
        "## **test_batch()**\n",
        "Function that tests the model using the given x_test and y_test set.\n",
        "\n",
        "**Input:** shallow linear model, $x$, $y$\n",
        "\n",
        "**Output:** $y$ and $y'$"
      ]
    },
    {
      "cell_type": "code",
      "metadata": {
        "id": "2Kp0jX5-ig15",
        "colab_type": "code",
        "colab": {}
      },
      "source": [
        "def test_batch(model, x, y):\n",
        "    # run forward calculation\n",
        "    y_predict = model.forward(x)\n",
        "\n",
        "    return y, y_predict"
      ],
      "execution_count": 0,
      "outputs": []
    },
    {
      "cell_type": "markdown",
      "metadata": {
        "id": "_zHsTvCseWS7",
        "colab_type": "text"
      },
      "source": [
        "## **test()**\n",
        "Function that tests the model using the given x_test and y_test set.\n",
        "\n",
        "**Input:** shallow linear model, data loader for test set\n",
        "\n",
        "**Output:** $y'$ numpy vector"
      ]
    },
    {
      "cell_type": "code",
      "metadata": {
        "id": "SuVHFm11ikNE",
        "colab_type": "code",
        "colab": {}
      },
      "source": [
        "def test(model, loader):\n",
        "    y_vectors = list()\n",
        "    y_predict_vectors = list()\n",
        "\n",
        "    batch_index = 0\n",
        "    for x, y in loader:\n",
        "        y, y_predict = test_batch(model=model, x=x, y=y)\n",
        "\n",
        "        y_vectors.append(y.data.numpy())\n",
        "        y_predict_vectors.append(y_predict.data.numpy())\n",
        "\n",
        "        batch_index += 1\n",
        "\n",
        "    y_predict_vector = np.concatenate(y_predict_vectors)\n",
        "    y_vector = np.concatenate(y_vectors)\n",
        "\n",
        "    return y_vector, y_predict_vector"
      ],
      "execution_count": 0,
      "outputs": []
    },
    {
      "cell_type": "markdown",
      "metadata": {
        "id": "jagxAXhxgXWk",
        "colab_type": "text"
      },
      "source": [
        "## **plot_loss()**\n",
        "Plots the loss of the given train session\n",
        "\n",
        "**Input:** list of losses by batch\n",
        "\n",
        "**Output:** a graph of losses vs iterations."
      ]
    },
    {
      "cell_type": "code",
      "metadata": {
        "id": "Q2I8rMiuiq07",
        "colab_type": "code",
        "colab": {}
      },
      "source": [
        "def plot_loss(losses, show=True):\n",
        "    fig = pyplot.gcf()\n",
        "    fig.set_size_inches(8,6)\n",
        "    ax = pyplot.axes()\n",
        "    ax.set_xlabel(\"Iteration\")\n",
        "    ax.set_ylabel(\"Loss\")\n",
        "    x_loss = list(range(len(losses)))\n",
        "    pyplot.plot(x_loss, losses)\n",
        "\n",
        "    if show:\n",
        "        pyplot.show()\n",
        "\n",
        "    pyplot.close()"
      ],
      "execution_count": 0,
      "outputs": []
    },
    {
      "cell_type": "markdown",
      "metadata": {
        "id": "4-lS6irwjT1r",
        "colab_type": "text"
      },
      "source": [
        "## **class ShallowLinear()**\n",
        "The class prouduces a linear nueral network with linear connections between each layer.\n",
        "\n",
        "**Attributes:** \n",
        "* linear1, linear2, linear3: each is a linear connection between 2 repsective layers. \n",
        "\n",
        "**Functions:**\n",
        "* *forward()* - obtains hidden layer and then preforms relu activation function and then returns x once it passes the output layer. "
      ]
    },
    {
      "cell_type": "code",
      "metadata": {
        "id": "GiFlEzD1izGN",
        "colab_type": "code",
        "colab": {}
      },
      "source": [
        "class ShallowLinear(nn.Module):\n",
        "    '''\n",
        "    A simple, general purpose, fully connected network\n",
        "    '''\n",
        "    def __init__(self):\n",
        "        # Perform initialization of the pytorch superclass\n",
        "        super(ShallowLinear, self).__init__()\n",
        "        \n",
        "        # Define network layer dimensions\n",
        "        D_in, H1, H2, D_out = [5172, 32, 32, 46]    \n",
        "        # These numbers correspond to each layer: [input, hidden_1, output]\n",
        "        \n",
        "        # Define layer types\n",
        "        self.linear1 = nn.Linear(D_in, H1)\n",
        "        self.linear2 = nn.Linear(H1, H2)\n",
        "        self.linear3 = nn.Linear(H2, D_out)\n",
        "\n",
        "    def forward(self, x):\n",
        "        '''\n",
        "        This method defines the network layering and activation functions\n",
        "        '''\n",
        "        x = self.linear1(x) # hidden layer\n",
        "        x = torch.relu(x)       # activation function\n",
        "        \n",
        "        x = self.linear2(x) # hidden layer\n",
        "        x = torch.relu(x)       # activation function\n",
        "        \n",
        "        x = self.linear3(x) # output layer\n",
        "\n",
        "        x = F.log_softmax(x)\n",
        "        \n",
        "        return x"
      ],
      "execution_count": 0,
      "outputs": []
    },
    {
      "cell_type": "markdown",
      "metadata": {
        "id": "aBa_yd6YlEUs",
        "colab_type": "text"
      },
      "source": [
        "## **run()**\n",
        "loads the data sets with DataLoader and using given hyperparameters, trains and tests the model\n",
        "\n",
        "**Input:** train dataset, test dataset\n",
        "\n",
        "**Output:** loss array, y_prediction npy"
      ]
    },
    {
      "cell_type": "code",
      "metadata": {
        "id": "vLPIlStSjDp4",
        "colab_type": "code",
        "colab": {}
      },
      "source": [
        "def run(dataset_train, dataset_test):\n",
        "    # Batch size is the number of training examples used to calculate each iteration's gradient\n",
        "    batch_size_train = 32\n",
        "    \n",
        "    data_loader_train = DataLoader(dataset=dataset_train, \n",
        "                                   batch_size=batch_size_train, shuffle=True)\n",
        "    data_loader_test = DataLoader(dataset=dataset_test, \n",
        "                                  batch_size=len(dataset_test), shuffle=False)\n",
        "    \n",
        "    # Define the hyperparameters\n",
        "    learning_rate = 1e-3\n",
        "    shallow_model = ShallowLinear()\n",
        "    \n",
        "    n_epochs = 10\n",
        "    \n",
        "    # Initialize the optimizer with above parameters\n",
        "    optimizer = optim.SGD(shallow_model.parameters(), lr=learning_rate)\n",
        "\n",
        "    # Define the loss function\n",
        "    loss_fn = nn.CrossEntropyLoss()  # mean squared error\n",
        "\n",
        "    # Train and get the resulting loss per iteration\n",
        "    loss = train(model=shallow_model, loader=data_loader_train, \n",
        "                 optimizer=optimizer, loss_fn=loss_fn, epochs=n_epochs)\n",
        "    \n",
        "    # Test and get the resulting predicted y values\n",
        "    y, y_predict = test(model=shallow_model, loader=data_loader_test)\n",
        "\n",
        "    return loss, y, y_predict"
      ],
      "execution_count": 0,
      "outputs": []
    },
    {
      "cell_type": "markdown",
      "metadata": {
        "id": "OB0eNsqwvOFn",
        "colab_type": "text"
      },
      "source": [
        "## **argmax()**\n",
        "Returns the indicies of the max value in a given test from $y$ and $y'$ respectively.\n",
        "\n",
        "**Input:** a single $y$ output and $y'$ output.\n",
        "\n",
        "**Output:** max index of the $y$ and $y'$ output."
      ]
    },
    {
      "cell_type": "code",
      "metadata": {
        "id": "Mzl8r2bz_q7o",
        "colab_type": "code",
        "colab": {}
      },
      "source": [
        "def argmax(y_predict, y):\n",
        "  ''' '''\n",
        "  Y = list(y)\n",
        "  Ypred = list(y_predict)\n",
        "  maxY = max(Y)\n",
        "  maxYpred = max(Ypred)\n",
        "  Yindex = Y.index(maxY)\n",
        "  predIndex = Ypred.index(maxYpred)\n",
        "\n",
        "  return Yindex, predIndex\n"
      ],
      "execution_count": 0,
      "outputs": []
    },
    {
      "cell_type": "markdown",
      "metadata": {
        "id": "VGic-0yNuumM",
        "colab_type": "text"
      },
      "source": [
        "## **accuracy()**\n",
        "Finds the error rate of the model given the $y$ and $y'$ output arrays.\n",
        "\n",
        "**Input:** the array of $y$ output and $y'$ output.\n",
        "\n",
        "**Output:** error rate, the argmax values of $y$ per test."
      ]
    },
    {
      "cell_type": "code",
      "metadata": {
        "id": "dwHnMscHJED1",
        "colab_type": "code",
        "colab": {}
      },
      "source": [
        "def accuracy(y, y_predict):\n",
        "  noMatch = 0\n",
        "  maxValues = list()\n",
        "  maxValuesPrime = list()\n",
        "  for number in range(len(y)):\n",
        "    yval, yprime = argmax(y_predict[number], y[number])\n",
        "    if yval != yprime: noMatch+=1\n",
        "    maxValues.append(yval)\n",
        "    maxValuesPrime.append(yprime)\n",
        "  \n",
        "  return (noMatch/len(y)), maxValues, maxValuesPrime"
      ],
      "execution_count": 0,
      "outputs": []
    },
    {
      "cell_type": "markdown",
      "metadata": {
        "id": "E7j9CrwnueKs",
        "colab_type": "text"
      },
      "source": [
        "## **plot_argMax()**\n",
        "Plots the distribution of the $y$ test output.\n",
        "\n",
        "**Input:** the array of $y$ output.\n",
        "\n",
        "**Output:** None"
      ]
    },
    {
      "cell_type": "code",
      "metadata": {
        "id": "6uS3MLdTmjdK",
        "colab_type": "code",
        "colab": {}
      },
      "source": [
        "def plot_argMax(argMax_array):\n",
        "  bins = [y_index_key[x] for x in y_index_key]\n",
        "  ax = pyplot.axes()\n",
        "  ax.set_xlabel(\"Class Index\")\n",
        "  ax.set_ylabel(\"Frequency\")\n",
        "  pyplot.hist(argMax_array, bins=bins)\n",
        "\n",
        "  pyplot.show()"
      ],
      "execution_count": 0,
      "outputs": []
    },
    {
      "cell_type": "markdown",
      "metadata": {
        "id": "Px16aa2H17Db",
        "colab_type": "text"
      },
      "source": [
        "## **false_Score()**\n",
        "Returns the normalized confusion matrix given $y$ and $y'$ data sets..\n",
        "\n",
        "**Input:** the array of $y$ and $y'$ output.\n",
        "\n",
        "**Output:** The normalized confusion matrix. "
      ]
    },
    {
      "cell_type": "code",
      "metadata": {
        "id": "c5YPGyyUxTnl",
        "colab_type": "code",
        "colab": {}
      },
      "source": [
        "def false_Score(y, y_predict):\n",
        "  ls=[y_index_key[x] for x in y_index_key]\n",
        "  return confusion_matrix(y, y_predict, labels=ls, normalize='true')"
      ],
      "execution_count": 0,
      "outputs": []
    },
    {
      "cell_type": "markdown",
      "metadata": {
        "id": "AjePekSc9XXf",
        "colab_type": "text"
      },
      "source": [
        "## **heatmap()**\n",
        "Plots the heatmap of the normalized confusion matrix.\n",
        "\n",
        "**Input:** a normalized confusion matrix.\n",
        "\n",
        "**Output:** None"
      ]
    },
    {
      "cell_type": "code",
      "metadata": {
        "id": "-CQtzI8W9X44",
        "colab_type": "code",
        "colab": {}
      },
      "source": [
        "def heatmap(conMatrix):\n",
        "  ax = pyplot.axes()\n",
        "  pyplot.imshow(conMatrix, cmap = 'Blues')\n",
        "  pyplot.colorbar()\n",
        "  pyplot.show()"
      ],
      "execution_count": 0,
      "outputs": []
    },
    {
      "cell_type": "markdown",
      "metadata": {
        "id": "kLTPLJWCmTN6",
        "colab_type": "text"
      },
      "source": [
        "## **main()**\n",
        "declares the data sets and test your classifier.\n",
        "\n",
        "**Input:** None\n",
        "\n",
        "**Output:** None"
      ]
    },
    {
      "cell_type": "code",
      "metadata": {
        "id": "rFJkHK8lnrsn",
        "colab_type": "code",
        "colab": {
          "base_uri": "https://localhost:8080/",
          "height": 1342
        },
        "outputId": "e903a748-dadf-45c6-e561-9854ebb949be"
      },
      "source": [
        "def main():\n",
        "  ''' Test the classifier. '''\n",
        "\n",
        "  # collect your paths \n",
        "  x_train_path = \"x_train.npz\"\n",
        "  y_train_path = \"y_train.npz\"\n",
        "  x_test_path = \"x_test.npz\"\n",
        "  y_test_path = \"y_test.npz\"\n",
        "\n",
        "  # produce your trainsets using PrimarySiteDataSet class\n",
        "  dataset_train = PrimarySiteDataset(x_path=x_train_path, \n",
        "                                     y_path=y_train_path)\n",
        "  dataset_test = PrimarySiteDataset(x_path=x_test_path, \n",
        "                                    y_path=y_test_path)\n",
        "  \n",
        "  # What is the train and test set size\n",
        "  print(\"Train set size: \", dataset_train.length)\n",
        "  print(\"Test set size: \", dataset_test.length)\n",
        "  \n",
        "  # get your losses and y' using run\n",
        "  losses, y, y_predict = run(dataset_train=dataset_train, \n",
        "                          dataset_test=dataset_test)\n",
        "  \n",
        "  # print final loss and graph\n",
        "  print(\"Final loss:\", sum(losses[-100:])/100)\n",
        "  plot_loss(losses)\n",
        "\n",
        "  # accuracy of algorithm\n",
        "  rate, y_argMax, y_predict_argMax = accuracy(y, y_predict)\n",
        "  print(\"Wrong: {}\".format(rate))\n",
        "\n",
        "  # produce a histogram\n",
        "  plot_argMax(y_argMax)\n",
        "\n",
        "  # find FP and NP\n",
        "  conMatrix = false_Score(y_argMax, y_predict_argMax)\n",
        "  \n",
        "  # heatmap of error\n",
        "  heatmap(conMatrix)\n",
        "  \n",
        "main()"
      ],
      "execution_count": 166,
      "outputs": [
        {
          "output_type": "stream",
          "text": [
            "Train set size:  15300\n",
            "Test set size:  3826\n"
          ],
          "name": "stdout"
        },
        {
          "output_type": "stream",
          "text": [
            "/usr/local/lib/python3.6/dist-packages/ipykernel_launcher.py:29: UserWarning: Implicit dimension choice for log_softmax has been deprecated. Change the call to include dim=X as an argument.\n"
          ],
          "name": "stderr"
        },
        {
          "output_type": "stream",
          "text": [
            "Epoch:  1\n",
            "Batches:  479\n",
            "Epoch:  2\n",
            "Batches:  958\n",
            "Epoch:  3\n",
            "Batches:  1437\n",
            "Epoch:  4\n",
            "Batches:  1916\n",
            "Epoch:  5\n",
            "Batches:  2395\n",
            "Epoch:  6\n",
            "Batches:  2874\n",
            "Epoch:  7\n",
            "Batches:  3353\n",
            "Epoch:  8\n",
            "Batches:  3832\n",
            "Epoch:  9\n",
            "Batches:  4311\n",
            "Epoch:  10\n",
            "Batches:  4790\n",
            "Final loss: 0.17253356903791428\n"
          ],
          "name": "stdout"
        },
        {
          "output_type": "display_data",
          "data": {
            "image/png": "[encoded data removed]",
            "text/plain": [
              "<Figure size 576x432 with 1 Axes>"
            ]
          },
          "metadata": {
            "tags": []
          }
        },
        {
          "output_type": "stream",
          "text": [
            "Wrong: 0.03842132775744903\n"
          ],
          "name": "stdout"
        },
        {
          "output_type": "display_data",
          "data": {
            "image/png": "[encoded data removed]",
            "text/plain": [
              "<Figure size 432x288 with 1 Axes>"
            ]
          },
          "metadata": {
            "tags": []
          }
        },
        {
          "output_type": "display_data",
          "data": {
            "image/png": "[encoded data removed]",
            "text/plain": [
              "<Figure size 432x288 with 2 Axes>"
            ]
          },
          "metadata": {
            "tags": []
          }
        }
      ]
    },
    {
      "cell_type": "markdown",
      "metadata": {
        "id": "mXEmU0-EcSk_",
        "colab_type": "text"
      },
      "source": [
        "## **Part 1**\n",
        "1. There are 15300 training examples.\n",
        "2. About 20% of the data is for testing. \n",
        "3. 5172 values will be used as an input for gene expression values. \n",
        "4. There are 46 types of tissue in the data labels.\n",
        "5. The size of the output layer should be 46 because we have 46 tissue types in our data.\n",
        "6. The assigned values in the begining with the y_index_key dictionary are the indicies each type is associated with. \n",
        "\n",
        "## **Part 2**\n",
        "1. Functions are copied above.\n",
        "2. https://drive.google.com/open?id=13B_Tmagsde8ePY8iDcutKiXL0U818xZb\n",
        "3. Code was written in to main()\n",
        "\n",
        "## **Part 3**\n",
        "1. I realized there wass 5172 inputs and a batch size of 32. We also have 46 output types to align to, therefore our neural net needed an input layer of 5172 inputs, 32 for each hidden layer and 46 for the output layer, after this, the model was functioning with a 2% loss consistently. \n",
        "\n",
        "2. The array is 3826 by 46 matrix. \n",
        "\n",
        "3. These numbers match because the test set has 3826 pieces of data and each piece of data has 46 values one for each tissue type. \n",
        "\n",
        "4. I performed number 4 and the highest number in the $y'$ set did not match with the type in the $y$ set.\n",
        "\n",
        "5. An  **argmax()** function was produced to return the indicy that has the max value in each list. \n",
        "\n",
        "6. The **accuracy()** function was created to iteratively use argmax() to find the rate of error in the classifier. \n",
        "\n",
        "7. The **plot_argMax()** function was created to graph the $y$ distribution.\n",
        "\n",
        "## **Part 4**\n",
        "Changes to code was made.\n",
        "\n",
        "## **Part 5**\n",
        "1. I changed the epochs to 10 instead of 4 and the learning rate to 1e-3. I believe 4 times is not enough to train a model. I first tried to see lower learning rates but only got higher losses so I decied to stay at 1e-3. \n",
        "\n",
        "2. My reasoning for choosing those parameters was that I thought the set needed more time to train so I added just one epoch to see if any change happend and the accuracy shot up to 87ish percent. The lower learning rate is so that we are more likely to find the lowest loss than missing it. \n",
        "\n",
        "3. If we have 64 nodes in the hidden layer then we have 64 weight parameters. If there is 4 output nodes then we have 4 bias parameters. In our network we are optimizing 64 weight parameters and 46 bias parameters. This is a drastically small number compared to the number of examples in the dataset. I believe there is a risk overfitting from the small size as fewer nodes means less adjustments. We have 46 possible types to consider, which I consider a more complex problem compared to what we saw in 1A.\n",
        "\n",
        "4. I think a better combination of hyperparameters like more nodes in the hidden layer, a better learning rate, and a diferent optimizer could be found to give a more accurate result for a more complex biology problem. I believe the only way to find out is to first research the other optimizers available, find the optimimum learning rates and epochs for each and just tweak and perform trial and error.\n",
        "\n",
        "5. Based on the results of the model the most confusing tissues to the model were #44 vaginal and #25 neural. \n",
        "\n",
        "6. Generally the more frequent the class is in the data set the more accurate the model was in identifying the correct type. For example such a small number of #23 lymphatic tissue is in the data set and so the model was not able to accurately find identify the tissue type. "
      ]
    }
  ]
}