{
 "cells": [
  {
   "cell_type": "markdown",
   "metadata": {
    "colab_type": "text",
    "id": "a5eSFzm_NNvG"
   },
   "source": [
    "# BME-230A: Homework 1 Part A - Mohammad Abdulqader\n",
    "\n",
    "Your assignment for homework 1A is to redo the linear regression analysis, but using a different classification method from SKLearn. \n",
    "\n",
    "Copy this notebook and complete the homework as an IPython notebook. Submit the notebook file to Canvas to complete the homework.\n",
    "\n",
    "Use the same dataset:\n",
    "https://drive.google.com/file/d/1FZbQCEHr2Rie4cXSM6Udg0SaWTtPnEHO/view?usp=sharing\n",
    "\n",
    "Goals and Requirements:\n",
    "1. Select a classification method from [SKLearn](http://scikit-learn.org/):\n",
    "    * We recommend logistic regression or any forest method as they are fairly intuitive. \n",
    "\n",
    "2. Write a short explanation of the method and how it works (look for explanations in documention, youtube, or online).\n",
    "\n",
    "3. Try to achieve the highest accuracy / estimator quality.\n",
    "\n",
    "*Notes*:\n",
    "\n",
    "Use a reasonable train/test split of 80%/20% or even 70%/30% to avoid too much variance in your estimate of accuracy, FPR and TPR. "
   ]
  },
  {
   "cell_type": "markdown",
   "metadata": {
    "colab_type": "text",
    "id": "bFp4Rq2BNNvH"
   },
   "source": [
    "## Logistic Regression Model\n",
    "The method I chose is the Logistic Regression Model. Given a set of X factors\n",
    "\\begin{equation}\n",
    "  x = (x_1, x_2, x_3, \\dots , x_n)\n",
    "\\end{equation}\n",
    "  We can write the following linear equation below\n",
    "\\begin{equation}\n",
    "  w_0 + w_1 x_1 + w_2 x_2 + \\ldots + w_n x_n =  w^T_x\n",
    "\\end{equation}\n",
    "Where $ w_0 $ is the intercept, alot like the $b$ used in linear regression.\n",
    "\n",
    "#### The Challenges of the Linear Model\n",
    "Because the model we just created is surrounded by the idea of a best fit line. Its range (y values) is unlimited. However, probablities can only be between 0 to 1, so the model fails. \n",
    "\n",
    "### Logit Style\n",
    "So 2 problems arose from the linear model \n",
    "\n",
    "\n",
    "*   The predicted values $y'$ can exceed 1.\n",
    "*   The values of $y'$ can be negative.\n",
    "\n",
    "They can be fixed using the logit function\n",
    "\\begin{equation}\n",
    "y' = ln(\\frac{p}{1 - p})\n",
    "\\end{equation}\n",
    "\n",
    "This obtained by shaping the linear model in an $e$ function to first eliminate the existance of negative probabilites in the model\n",
    "\n",
    "\\begin{equation}\n",
    "p = e^{w^T_x}\n",
    "\\end{equation}\n",
    "\n",
    "And then limiting it to 0 and 1 by dividing it by something bigger.\n",
    "\n",
    "\\begin{equation}\n",
    "p = \\frac{e^{w^T_x}}{e^{w^T_x} + 1}\n",
    "\\end{equation}\n",
    "\n",
    "This ensures that if $w^T_x$ is large, $p$ will be essentially 1 and when $w^T_x$ is small, $p$ will essentially be 0. Allowing us to create a classification model with both continuous and discrete variables."
   ]
  },
  {
   "cell_type": "markdown",
   "metadata": {
    "colab_type": "text",
    "id": "Y4BfV3M19Vkm"
   },
   "source": [
    "\n",
    "# Your Code\n",
    "\n",
    "Below include your code"
   ]
  },
  {
   "cell_type": "markdown",
   "metadata": {
    "colab_type": "text",
    "id": "XdotJJMlXmYZ"
   },
   "source": [
    "First block below authenticates the user and gets the data set."
   ]
  },
  {
   "cell_type": "code",
   "execution_count": 0,
   "metadata": {
    "colab": {},
    "colab_type": "code",
    "id": "yJyrwe1D9a2l"
   },
   "outputs": [],
   "source": [
    "# get PyDrive\n",
    "!pip install -U -q PyDrive\n",
    "\n",
    "from pydrive.auth import GoogleAuth\n",
    "from pydrive.drive import GoogleDrive\n",
    "from google.colab import auth\n",
    "from oauth2client.client import GoogleCredentials\n",
    "\n",
    "# 1. Authenticate and create the PyDrive client.\n",
    "auth.authenticate_user()\n",
    "gauth = GoogleAuth()\n",
    "gauth.credentials = GoogleCredentials.get_application_default()\n",
    "drive = GoogleDrive(gauth)\n",
    "\n",
    "# 2. Now proxy the Google Drive file to a local file\n",
    "cancer_data_import = drive.CreateFile({'id':'1FZbQCEHr2Rie4cXSM6Udg0SaWTtPnEHO'}) \n",
    "# this id is used to find the file, if you look at the google drive URL\n",
    "# you'll notice the id is the same after the  https://drive.google.com/file/d/ part of the URL\n",
    "cancer_data_import.GetContentFile('cancer_data.csv') # 'cancer_data.csv' is the file name that will be accessible in the notebook."
   ]
  },
  {
   "cell_type": "code",
   "execution_count": 2,
   "metadata": {
    "colab": {
     "base_uri": "https://localhost:8080/",
     "height": 87
    },
    "colab_type": "code",
    "id": "14-O_FN6EpTP",
    "outputId": "080caffb-abe3-4d0b-c0f8-bb8de56442e2"
   },
   "outputs": [
    {
     "name": "stdout",
     "output_type": "stream",
     "text": [
      "score:0.945637\n"
     ]
    },
    {
     "name": "stderr",
     "output_type": "stream",
     "text": [
      "/usr/local/lib/python2.7/dist-packages/sklearn/linear_model/logistic.py:433: FutureWarning: Default solver will be changed to 'lbfgs' in 0.22. Specify a solver to silence this warning.\n",
      "  FutureWarning)\n"
     ]
    }
   ],
   "source": [
    "import numpy as np\n",
    "import pandas as pd\n",
    "from sklearn import preprocessing\n",
    "from sklearn import linear_model\n",
    "from sklearn.metrics import accuracy_score\n",
    "\n",
    "# read the file to begin with\n",
    "dataset = pd.read_csv('cancer_data.csv')  \n",
    "\n",
    "# set up the data and fit to transformation.\n",
    "for column in dataset:\n",
    "  dataset[column] = preprocessing.LabelEncoder().fit_transform(dataset[column])\n",
    "\n",
    "inputX = dataset[['uniformity-of-cell-size', 'uniformity-of-cell-shape']]\n",
    "inputY = dataset['class']\n",
    "\n",
    "LogRegModel = linear_model.LogisticRegression(random_state=0)\n",
    "LogRegModel.fit(inputX, inputY)\n",
    "print(\"score:{}\".format(round(LogRegModel.score(inputX, inputY), 6)))"
   ]
  },
  {
   "cell_type": "markdown",
   "metadata": {
    "colab_type": "text",
    "id": "W7broxTRZ-pH"
   },
   "source": [
    "I chose the the above inputs based on scoring each column done below using the LogisticRegression class from the linear_model extension of sklearn."
   ]
  },
  {
   "cell_type": "code",
   "execution_count": 3,
   "metadata": {
    "colab": {
     "base_uri": "https://localhost:8080/",
     "height": 168
    },
    "colab_type": "code",
    "id": "N5ynkqAlJs_E",
    "outputId": "28a8bd87-7c82-431b-c85b-cbc241e03b05"
   },
   "outputs": [
    {
     "name": "stdout",
     "output_type": "stream",
     "text": [
      "clump-thickness\t0.861230329041\n",
      "uniformity-of-cell-size\t0.927038626609\n",
      "uniformity-of-cell-shape\t0.922746781116\n",
      "marginal-adhesion\t0.864091559371\n",
      "single-epithelial-cell-size\t0.875536480687\n",
      "bare-nuclei\t0.713876967096\n",
      "bland-chromatin\t0.907010014306\n",
      "normal-nucleoli\t0.8669527897\n",
      "mitoses\t0.789699570815\n"
     ]
    }
   ],
   "source": [
    "columns = list(dataset.keys())\n",
    "columns.remove('id')\n",
    "columns.remove('class')\n",
    "\n",
    "# lets see which variable is the most effective\n",
    "\n",
    "for column in columns:\n",
    "  X = dataset[[column]]\n",
    "  Y = dataset['class']\n",
    "  LogRegModel = linear_model.LogisticRegression(random_state= 0)\n",
    "  LogRegModel.fit(X, Y)\n",
    "  print(\"{}\\t{}\".format(column, LogRegModel.score(X, Y)))\n"
   ]
  },
  {
   "cell_type": "markdown",
   "metadata": {
    "colab_type": "text",
    "id": "6v8hkGiMNNvI"
   },
   "source": [
    "# Classification\n",
    "Create training/test splits and train the classifier. Report the accuracy, FPR and TPR.\n",
    "\n",
    "### Finding a Threshold\n",
    "First the data is graphed to find the ideal threshold to test with. Besed on the graph, I chose 0.1 as my threshold to decide whether something is benign or malignant. "
   ]
  },
  {
   "cell_type": "code",
   "execution_count": 6,
   "metadata": {
    "colab": {
     "base_uri": "https://localhost:8080/",
     "height": 538
    },
    "colab_type": "code",
    "id": "gQmwhhBeNNvJ",
    "outputId": "cbe03650-6a79-4af0-b75b-4a253385d34f"
   },
   "outputs": [
    {
     "data": {
      "image/png": "[encoded data removed]",
      "text/plain": [
       "<Figure size 432x288 with 1 Axes>"
      ]
     },
     "metadata": {
      "tags": []
     },
     "output_type": "display_data"
    },
    {
     "data": {
      "image/png": "[encoded data removed]",
      "text/plain": [
       "<Figure size 432x288 with 1 Axes>"
      ]
     },
     "metadata": {
      "tags": []
     },
     "output_type": "display_data"
    },
    {
     "name": "stdout",
     "output_type": "stream",
     "text": [
      "Classification Accuracy: 0.945637\n"
     ]
    }
   ],
   "source": [
    "import matplotlib.pyplot as plt\n",
    "\n",
    "# make the false vs true datasets\n",
    "falseCase = dataset.loc[dataset['class'] == 0]\n",
    "trueCase = dataset.loc[dataset['class'] == 1]\n",
    "\n",
    "# false test\n",
    "falseY = falseCase['class']\n",
    "falseX = falseCase[['uniformity-of-cell-size', 'uniformity-of-cell-shape']]\n",
    "LogRegModel.fit(inputX, inputY)\n",
    "falseInferences = LogRegModel.predict(falseX)\n",
    "\n",
    "flaseN, falseBin, falsePatches = plt.hist(falseInferences, bins=50, normed=1, cumulative=0)\n",
    "plt.show()\n",
    "\n",
    "# true test\n",
    "trueY = trueCase['class']\n",
    "trueX = trueCase[['uniformity-of-cell-size', 'uniformity-of-cell-shape']]\n",
    "trueInferences = LogRegModel.predict(trueX)\n",
    "\n",
    "trueN, trueBin, truePatches = plt.hist(trueInferences, bins=50, normed=1, cumulative=0)\n",
    "plt.show()\n",
    "\n",
    "\n",
    "# classification test\n",
    "\n",
    "# the accuracy scores are so high as is no cutoff really changes the outcomes.\n",
    "yHat = LogRegModel.predict(inputX)\n",
    "yHatClassification = [1 if p > 0.1 else 0 for p in yHat]\n",
    "print(\"Classification Accuracy: {}\".format(round(accuracy_score(inputY, yHatClassification), 6)))\n"
   ]
  },
  {
   "cell_type": "markdown",
   "metadata": {
    "colab_type": "text",
    "id": "phUoKivwRYw-"
   },
   "source": [
    "This block below is the actual train and test split."
   ]
  },
  {
   "cell_type": "code",
   "execution_count": 7,
   "metadata": {
    "colab": {
     "base_uri": "https://localhost:8080/",
     "height": 571
    },
    "colab_type": "code",
    "id": "baO-wP5URXf8",
    "outputId": "4e6d6d6e-5777-437f-8564-ba214248c2e1"
   },
   "outputs": [
    {
     "name": "stdout",
     "output_type": "stream",
     "text": [
      "Train Score: 0.939177101968\n"
     ]
    },
    {
     "data": {
      "image/png": "[encoded data removed]",
      "text/plain": [
       "<Figure size 432x288 with 1 Axes>"
      ]
     },
     "metadata": {
      "tags": []
     },
     "output_type": "display_data"
    },
    {
     "data": {
      "image/png": "[encoded data removed]",
      "text/plain": [
       "<Figure size 432x288 with 1 Axes>"
      ]
     },
     "metadata": {
      "tags": []
     },
     "output_type": "display_data"
    },
    {
     "name": "stdout",
     "output_type": "stream",
     "text": [
      "Test Score: 0.971428571429\n",
      "FPR: 0.0340909090909\tFNR: 0.0192307692308\n"
     ]
    }
   ],
   "source": [
    "# split into train and test data\n",
    "from sklearn.model_selection import train_test_split\n",
    "from sklearn.metrics import confusion_matrix\n",
    "\n",
    "(trainSet,testSet) = train_test_split(dataset, test_size=0.2)\n",
    "\n",
    "trainY = trainSet['class']\n",
    "trainX = trainSet[['uniformity-of-cell-shape','uniformity-of-cell-size']]\n",
    "\n",
    "testY = testSet['class']\n",
    "testX = testSet[['uniformity-of-cell-shape','uniformity-of-cell-size']]\n",
    "\n",
    "LogRegModel.fit(trainX, trainY)\n",
    "print(\"Train Score: {}\".format(LogRegModel.score(trainX, trainY)))\n",
    "\n",
    "\n",
    "# finding the threshold\n",
    "inputBenign = trainSet.loc[trainSet['class'] == 0]\n",
    "benignY = inputBenign['class']\n",
    "benignX = inputBenign[['uniformity-of-cell-shape', 'uniformity-of-cell-size']]\n",
    "LogRegModel.fit(trainX, trainY)\n",
    "predsBenign = LogRegModel.predict(benignX)\n",
    "\n",
    "N, bins, patches = plt.hist(predsBenign, bins=100, normed=1, cumulative=0)\n",
    "plt.show()\n",
    "\n",
    "inputMgn = trainSet.loc[trainSet['class'] == 1]\n",
    "malY = inputMgn['class']\n",
    "malX = inputMgn[['uniformity-of-cell-size','uniformity-of-cell-size']]\n",
    "predsMgn = LogRegModel.predict(malX)\n",
    "\n",
    "N, bins, patches = plt.hist(predsMgn, bins=100, normed=1, cumulative=0)\n",
    "plt.show()\n",
    "\n",
    "# test with the test set\n",
    "testPredict = LogRegModel.predict(testX)\n",
    "testPredict = [1 if p > 0.1 else 0 for p in testPredict]\n",
    "print(\"Test Score: {}\".format(accuracy_score(testY, testPredict)))\n",
    "\n",
    "tn, fp, fn, tp = confusion_matrix(testY, testPredict).ravel()\n",
    "\n",
    "FPR = float(fp)/float(fp + tn)\n",
    "FNR = float(fn)/float(fn + tp)\n",
    "\n",
    "print(\"FPR: {}\\tFNR: {}\".format(FPR, FNR))"
   ]
  },
  {
   "cell_type": "markdown",
   "metadata": {
    "colab_type": "text",
    "id": "vpiCuvguNNvS"
   },
   "source": [
    "# Questions\n",
    "What feature contributes most to the prediction? How can we tell?"
   ]
  },
  {
   "cell_type": "markdown",
   "metadata": {
    "colab_type": "text",
    "id": "YmpTtiemNNvT"
   },
   "source": [
    "Two features have the largest impact to the prediction and they are uniformity of cell size and uniformity of cell shape, each have an accuracy of above 92.2%. We can tell by runing .score on every column (excluding id and class) to predict for class if it is 1 malignant or 0 benign."
   ]
  },
  {
   "cell_type": "markdown",
   "metadata": {
    "colab_type": "text",
    "id": "zlDc9idyNNvU"
   },
   "source": [
    "Explain in your own words the difference between regression and classification methods."
   ]
  },
  {
   "cell_type": "markdown",
   "metadata": {
    "colab_type": "text",
    "id": "oQi55oSLNNvV"
   },
   "source": [
    "Both regression and classification are types of supervised machine learning. However, the main difference is that regression has a conitnous range of output from 0 ot 1 (probabilities) as classification is a more discrete output of 0 or 1 (a yes or no). Because class is a more discreet value, the regression output from the Logistic regression model needs a cutoff to create a more discreet yes or no values. "
   ]
  },
  {
   "cell_type": "markdown",
   "metadata": {
    "colab_type": "text",
    "id": "GaZLWMMjNNvV"
   },
   "source": [
    "Is it best to use all the features or exclude some? Why?"
   ]
  },
  {
   "cell_type": "markdown",
   "metadata": {
    "colab_type": "text",
    "id": "7Kwmwj5SNNvX"
   },
   "source": [
    "No, because some features may have a lower score in terms of finding whether a sample is benign or not. It's best to use the features that will have the best chance of obtaining the correct result. "
   ]
  },
  {
   "cell_type": "markdown",
   "metadata": {
    "colab_type": "text",
    "id": "S0TjnSmsCu9K"
   },
   "source": [
    "What methods can be used to prevent over-training? How would or did you apply these methods to create a robust model?"
   ]
  },
  {
   "cell_type": "markdown",
   "metadata": {
    "colab_type": "text",
    "id": "q1g7J3NHDjGN"
   },
   "source": [
    "A good method to prevent over training is to do a test/train split of your data. For example on this model, the trian accuracy and test accuracy generally are in the same ball park. If the test was significantly lower than the train, then we have overtrained our data. We can implement this by randomly selecting for example 70% of the data to train with and 30% to test with. This can be done with scikit learn's model_selection.train_test_split() function. YOu could solve the overtraining problem in a few ways, a common one is to change the parameters of your model or to give it more data in order for the model to not become too accoustomed to the same data. "
   ]
  }
 ],
 "metadata": {
  "colab": {
   "collapsed_sections": [],
   "name": "Homework1A_Abdulqader.ipynb",
   "provenance": []
  },
  "kernelspec": {
   "display_name": "Python 3",
   "language": "python",
   "name": "python3"
  },
  "language_info": {
   "codemirror_mode": {
    "name": "ipython",
    "version": 3
   },
   "file_extension": ".py",
   "mimetype": "text/x-python",
   "name": "python",
   "nbconvert_exporter": "python",
   "pygments_lexer": "ipython3",
   "version": "3.7.4"
  }
 },
 "nbformat": 4,
 "nbformat_minor": 1
}
