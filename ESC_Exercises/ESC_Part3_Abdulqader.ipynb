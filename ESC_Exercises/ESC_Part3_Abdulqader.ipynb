{
  "nbformat": 4,
  "nbformat_minor": 0,
  "metadata": {
    "colab": {
      "name": "ESCpart3_Abdulqader.ipynb",
      "provenance": [],
      "collapsed_sections": []
    },
    "kernelspec": {
      "name": "python3",
      "display_name": "Python 3"
    }
  },
  "cells": [
    {
      "cell_type": "code",
      "metadata": {
        "id": "173pjFDiwTdM",
        "colab_type": "code",
        "outputId": "a23e9aed-20f5-4d06-ce57-acbafe90f090",
        "colab": {
          "base_uri": "https://localhost:8080/",
          "height": 34
        }
      },
      "source": [
        "# Problem 1 - Build the BWT\n",
        "\n",
        "def makeBwt(t):\n",
        "  \"\"\"Create the BWT for the string t$\"\"\"\n",
        "  \n",
        "  # Code to complete\n",
        "  td = t + \"$\"\n",
        "  bwa = [i - 1 for i in range(len(td))]\n",
        "  bwa.sort(key = lambda x : td[x + 1:])\n",
        "  bwt = str()\n",
        "  for k in bwa: bwt += td[k]\n",
        "\n",
        "  return bwt\n",
        "\n",
        "text = \"GATTACA\"\n",
        "\n",
        "bwt = makeBwt(text)\n",
        "\n",
        "bwt == \"ACTGA$TA\""
      ],
      "execution_count": 7,
      "outputs": [
        {
          "output_type": "execute_result",
          "data": {
            "text/plain": [
              "True"
            ]
          },
          "metadata": {
            "tags": []
          },
          "execution_count": 7
        }
      ]
    },
    {
      "cell_type": "code",
      "metadata": {
        "id": "LkOQQdDIzpz2",
        "colab_type": "code",
        "outputId": "087e8f90-5200-4032-fd29-04d22b1dd740",
        "colab": {
          "base_uri": "https://localhost:8080/",
          "height": 34
        }
      },
      "source": [
        "# Problem 2 - Invert the BWT\n",
        "\n",
        "def invertBwt(bwt):\n",
        "  \"\"\"Inverts the Burrows-Wheeler Transform, returning the original string using \n",
        "  inefficent algorithm\"\"\"\n",
        "  \n",
        "  # Code to complete\n",
        "  ## Hint - see the lecture notes\n",
        "  inv_bwt = [bwt[i] for i in range(len(bwt))]\n",
        "\n",
        "  for i in range(len(bwt) - 1):\n",
        "    inv_bwt.sort()\n",
        "    inv_bwt = [bwt[i] + inv_bwt[i] for i in range(len(bwt))]\n",
        "\n",
        "  inv_bwt.sort(key = lambda x:x[-1])\n",
        "  return inv_bwt[0] \n",
        "\n",
        "invertBwt(bwt) == text + \"$\""
      ],
      "execution_count": 6,
      "outputs": [
        {
          "output_type": "execute_result",
          "data": {
            "text/plain": [
              "True"
            ]
          },
          "metadata": {
            "tags": []
          },
          "execution_count": 6
        }
      ]
    },
    {
      "cell_type": "code",
      "metadata": {
        "id": "KsnqBYpl7md2",
        "colab_type": "code",
        "outputId": "b1fe43a3-f35d-4d9a-9ea0-bd1dce8fe546",
        "colab": {
          "base_uri": "https://localhost:8080/",
          "height": 34
        }
      },
      "source": [
        "# Problem 3 - Complete Last-to-First mapping using FM-index\n",
        "\n",
        "class FmIndex(object):\n",
        "    def __init__(self, t, alphabet):\n",
        "      ''' Create FM-index for t in naive manner '''\n",
        "      \n",
        "      # Make the BWT \n",
        "      # We don't compress or anything here, but you could\n",
        "      self.bwt = makeBwt(t)\n",
        "      \n",
        "      # Calculate C lookup dictionary in crappy way\n",
        "      s = sorted(self.bwt)\n",
        "      self.C = {}\n",
        "      for i in range(len(s)-1, -1, -1):\n",
        "        self.C[s[i]] = i\n",
        "      \n",
        "      # Calculate full Occ table in similarly crappy way\n",
        "      # Recall, this is not using sampling and is therefore\n",
        "      # very memory inefficient \n",
        "      self.Occ = [ {} for i in range(len(self.bwt)) ]\n",
        "      for i in range(len(self.bwt)):\n",
        "        for j in alphabet + \"$\":\n",
        "          p = self.Occ[i-1][j] if i > 0 else 0\n",
        "          self.Occ[i][j] = p + (1 if self.bwt[i] == j else 0)\n",
        "\n",
        "      \n",
        "    def lf(self, i):\n",
        "      \"\"\" Return the last-to-first mapping for index i of the bwt \"\"\"\n",
        "      \n",
        "      ## Code to complete\n",
        "      # Hint, don't forget to convert between 0 based Python string coordinates and 1\n",
        "      # based coordinates of FM-index tables\n",
        "      # get out the F indicy\n",
        "      last_item = self.bwt[i]\n",
        "      first_item = self.C[last_item] + self.Occ[i][last_item] - 1\n",
        "      return first_item\n",
        "      \n",
        "\n",
        "dnaAlphabet = \"ACGT\"\n",
        "fmIndex = FmIndex(text, dnaAlphabet)\n",
        "\n",
        "fmIndex.lf(5) == 0"
      ],
      "execution_count": 5,
      "outputs": [
        {
          "output_type": "execute_result",
          "data": {
            "text/plain": [
              "True"
            ]
          },
          "metadata": {
            "tags": []
          },
          "execution_count": 5
        }
      ]
    },
    {
      "cell_type": "code",
      "metadata": {
        "id": "XO8RDtA5W9aI",
        "colab_type": "code",
        "outputId": "544fc56a-8f31-4943-c536-59ab9cd1bf89",
        "colab": {
          "base_uri": "https://localhost:8080/",
          "height": 34
        }
      },
      "source": [
        "# Problem 4 - Use backward search to invert the BWT\n",
        "\n",
        "def invertBwtUsingFmIndex(fmIndex):\n",
        "  \"\"\" Returns t by using repeated lf search to reconstruct t$ backwards\"\"\"\n",
        "  \n",
        "  # Code to write\n",
        "  ## Hint: start from location of \"$\"  in bwt, then walk backwards using fmIndex.lf\n",
        "  ## function to build t\n",
        "  some_index = fmIndex.bwt.index('$')\n",
        "  path = ''\n",
        "  for postion in range(len(fmIndex.bwt)):\n",
        "    path += bwt[some_index]\n",
        "    some_index = fmIndex.lf(some_index)\n",
        "\n",
        "  return path[::-1]\n",
        "  \n",
        "\n",
        "invertBwtUsingFmIndex(fmIndex) == \"GATTACA$\""
      ],
      "execution_count": 8,
      "outputs": [
        {
          "output_type": "execute_result",
          "data": {
            "text/plain": [
              "True"
            ]
          },
          "metadata": {
            "tags": []
          },
          "execution_count": 8
        }
      ]
    },
    {
      "cell_type": "markdown",
      "metadata": {
        "id": "khGNJCfkhInl",
        "colab_type": "text"
      },
      "source": [
        "Problem 4 questions:\n",
        "\n",
        "Q: What is the asymptotic runtime of your invertBwtUsingFmIndex function?\n",
        "\n",
        "O($n^2$)\n",
        "\n",
        "Q2: How does this to compare to the runtime of the invertBWT function?\n",
        "\n",
        "invertBWT is slower than using FmIndex."
      ]
    },
    {
      "cell_type": "code",
      "metadata": {
        "id": "Y5XishWt29jy",
        "colab_type": "code",
        "colab": {}
      },
      "source": [
        "# Extra credit: adapt the FmIndex class and add a pattern query method to search for instance of input pattern in t"
      ],
      "execution_count": 0,
      "outputs": []
    }
  ]
}